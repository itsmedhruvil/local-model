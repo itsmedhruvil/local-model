{
 "cells": [
  {
   "cell_type": "code",
   "execution_count": 5,
   "metadata": {},
   "outputs": [
    {
     "name": "stdout",
     "output_type": "stream",
     "text": [
      "Hello\n"
     ]
    }
   ],
   "source": [
    "print(\"Hello\")"
   ]
  },
  {
   "cell_type": "code",
   "execution_count": 6,
   "metadata": {},
   "outputs": [],
   "source": [
    "MODEL = \"orca-mini\""
   ]
  },
  {
   "cell_type": "code",
   "execution_count": 7,
   "metadata": {},
   "outputs": [
    {
     "data": {
      "text/plain": [
       "' Why did the tomato turn red? Because it saw the salad dressing!'"
      ]
     },
     "execution_count": 7,
     "metadata": {},
     "output_type": "execute_result"
    }
   ],
   "source": [
    "from langchain_community.llms import Ollama\n",
    "from langchain_core.output_parsers import StrOutputParser\n",
    "model = Ollama(model=MODEL)\n",
    "parser=StrOutputParser()\n",
    "\n",
    "chain = model | parser\n",
    "\n",
    "chain.invoke(\"Tell me a joke\")\n"
   ]
  },
  {
   "cell_type": "code",
   "execution_count": 1,
   "metadata": {},
   "outputs": [
    {
     "data": {
      "text/plain": [
       "[Document(page_content='How to Be a Stoic - Chapter 10 DiscussionSummaryStoicism can aid people in coping with challenging life circumstances such as physical disabilities or mental illnesses, though it is not a cure-all. Larry Becker provides an example of using Stoic principles to reclaim agency and focus on abilities over disabilities after being paralyzed by polio. His advice includes: realizing the importance of agency, focusing on abilities rather than disabilities, knowing yourself, having a dynamic life plan, striving for internal harmony, and recognizing \"brick walls.\"Andrew Overby found Stoicism helpful in coping with depression. He used Stoic ideas like the dichotomy of control, viewing adversity as training, analyzing impressions, and negative visualization. An anonymous author with autism found solace in Stoic thinkers like Seneca, who wrote about self-knowledge and the social nature of human existence. For all three examples, Stoicism provided a change in perspective and empowerment to cope with challenges. It is not a cure, but can be helpful.Discussion questions:1. How might a Stoic outlook shape one\\'s perspective on disability or mental illness? What might be helpful or unhelpful about this?2. Do you think the dichotomy of control would be useful for someone with depression? Why or why not?3. What can non-disabled people learn from Larry Becker\\'s experience and advice?4. How could negative visualization be helpful for someone with anxiety? What are the risks of this practice?', metadata={'source': '1.pdf', 'page': 0}),\n",
       " Document(page_content='5. The author with autism focused on self-knowledge and social bonds. How are those Stoic ideas relevant to her situation?6. How might Stoicism help caregivers of those with disabilities or mental illness cope with challenges?7. What modern tools or treatments could complement a Stoic approach to disability/illness? What are the limitations?8. Can Stoicism promote acceptance of injustice or obstacles that should be changed? How does it distinguish between what cannot be changed and what should be?9. What advice would you give someone interested in Stoicism as they face disability, illness, or loss?10. How might Stoic teachings on virtue and wisdom help someone facing physical or mental challenges? What specific virtues might help?', metadata={'source': '1.pdf', 'page': 1})]"
      ]
     },
     "execution_count": 1,
     "metadata": {},
     "output_type": "execute_result"
    }
   ],
   "source": [
    "from langchain_community.document_loaders import PyPDFLoader\n",
    "\n",
    "loader = PyPDFLoader(\"1.pdf\")\n",
    "pages = loader.load_and_split()\n",
    "pages"
   ]
  }
 ],
 "metadata": {
  "kernelspec": {
   "display_name": ".venv",
   "language": "python",
   "name": "python3"
  },
  "language_info": {
   "codemirror_mode": {
    "name": "ipython",
    "version": 3
   },
   "file_extension": ".py",
   "mimetype": "text/x-python",
   "name": "python",
   "nbconvert_exporter": "python",
   "pygments_lexer": "ipython3",
   "version": "3.10.12"
  }
 },
 "nbformat": 4,
 "nbformat_minor": 2
}
